{
  "nbformat": 4,
  "nbformat_minor": 0,
  "metadata": {
    "colab": {
      "name": "Deep-NN for MNIST classification.ipynb",
      "provenance": [],
      "authorship_tag": "ABX9TyN1CByWljFn+5nT9vnMHe06",
      "include_colab_link": true
    },
    "kernelspec": {
      "name": "python3",
      "display_name": "Python 3"
    }
  },
  "cells": [
    {
      "cell_type": "markdown",
      "metadata": {
        "id": "view-in-github",
        "colab_type": "text"
      },
      "source": [
        "<a href=\"https://colab.research.google.com/github/AlphAxe/Deep-NN-for-MNIST-Dataset/blob/master/Deep_NN_for_MNIST_classification.ipynb\" target=\"_parent\"><img src=\"https://colab.research.google.com/assets/colab-badge.svg\" alt=\"Open In Colab\"/></a>"
      ]
    },
    {
      "cell_type": "markdown",
      "metadata": {
        "id": "8XW0TIAgpFw4",
        "colab_type": "text"
      },
      "source": [
        "**Import important packages**"
      ]
    },
    {
      "cell_type": "code",
      "metadata": {
        "id": "Ir5FBPJvoLn3",
        "colab_type": "code",
        "colab": {}
      },
      "source": [
        "import numpy as np\n",
        "import tensorflow as tf\n",
        "import tensorflow_datasets as tfds\n"
      ],
      "execution_count": null,
      "outputs": []
    },
    {
      "cell_type": "markdown",
      "metadata": {
        "id": "kyzVgFw5pNEX",
        "colab_type": "text"
      },
      "source": [
        "**Loading Data**"
      ]
    },
    {
      "cell_type": "code",
      "metadata": {
        "id": "Ym3DVPLbobhK",
        "colab_type": "code",
        "colab": {}
      },
      "source": [
        "mnist_ds, mnist_info = tfds.load(name = 'mnist', with_info=True, as_supervised= True)\n"
      ],
      "execution_count": null,
      "outputs": []
    },
    {
      "cell_type": "markdown",
      "metadata": {
        "id": "y1YDHWLBpUTs",
        "colab_type": "text"
      },
      "source": [
        "**Data Preprocessing**"
      ]
    },
    {
      "cell_type": "code",
      "metadata": {
        "id": "Y_qC22ako5s6",
        "colab_type": "code",
        "colab": {}
      },
      "source": [
        "mnist_train, mnist_test = mnist_ds['train'], mnist_ds['test']\n",
        "\n",
        "#let's make vaidation dataset from train by taking 10%of it\n",
        "\n",
        "num_valid_samples = 0.1 * mnist_info.splits['train'].num_examples\n",
        "# to make sure all validation data points are integers\n",
        "\n",
        "num_valid_samples = tf.cast(num_valid_samples, dtype = tf.int64)\n",
        "\n",
        "#same process to make a dedicated variable for test data\n",
        "\n",
        "num_test_samples = mnist_info.splits['test'].num_examples\n",
        "num_test_samples = tf.cast(num_test_samples, dtype = tf.int64)\n"
      ],
      "execution_count": null,
      "outputs": []
    },
    {
      "cell_type": "markdown",
      "metadata": {
        "id": "xyWm9CRDq8Ir",
        "colab_type": "text"
      },
      "source": [
        "**Introduce a Scaling function**"
      ]
    },
    {
      "cell_type": "code",
      "metadata": {
        "id": "-W09njnkp7u8",
        "colab_type": "code",
        "colab": {}
      },
      "source": [
        "def scale(image, label):\n",
        "  image = tf.cast(image, dtype = tf.float32)\n",
        "  image /= 255.  #to scale all data point between 0 and 1\n",
        "  return image, label"
      ],
      "execution_count": null,
      "outputs": []
    },
    {
      "cell_type": "code",
      "metadata": {
        "id": "q2bGNO5jq5uz",
        "colab_type": "code",
        "colab": {}
      },
      "source": [
        "scaled_train_and_validation_data = mnist_train.map(sacle)\n",
        "scaled_test_data = mnist_test.map(scale)"
      ],
      "execution_count": null,
      "outputs": []
    },
    {
      "cell_type": "markdown",
      "metadata": {
        "id": "VQ6GQpSaEGTQ",
        "colab_type": "text"
      },
      "source": [
        "**Shuffling and Batching**\n",
        "Shuffuling is to keeping the same information but in a random order.\n",
        "Batching is to use the computational power efficiently, used when we have to deal with enormous datasets and can not shuffule the data at once"
      ]
    },
    {
      "cell_type": "markdown",
      "metadata": {
        "id": "sDTh65F9FODm",
        "colab_type": "text"
      },
      "source": [
        "**In Shuffling** if buffer_size = 1: No shuffling will takes place , if buffer_size >= Number of samples: Shuffling will happen only once , \n",
        "if buffer_size < Number of samples: we will be optimizing computational power\n"
      ]
    },
    {
      "cell_type": "code",
      "metadata": {
        "id": "C4CCcCvOsJ1m",
        "colab_type": "code",
        "colab": {}
      },
      "source": [
        "buffer_size = 10000  # num of samples we are taking at a time to suffle\n",
        "shuffled_train_and_validation_data = scaled_train_and_validation_data.shuffle(buffer_size)\n",
        "test_data = scaled_test_data.shuffle(buffer_size)\n",
        "\n",
        "#extracting validation and training dataset\n",
        "\n",
        "validation_data = shuffled_train_and_validation_data.take(num_valid_samples)\n",
        "train_data = shuffled_train_and_validation_data.skip(num_valid_samples)\n"
      ],
      "execution_count": null,
      "outputs": []
    },
    {
      "cell_type": "markdown",
      "metadata": {
        "id": "qkwzFVtKHDst",
        "colab_type": "text"
      },
      "source": [
        "**Batching** 1 < batch_size < number of samples:    Mini batch Gradient Descent (GD)"
      ]
    },
    {
      "cell_type": "code",
      "metadata": {
        "id": "QVXAkZJFGfz_",
        "colab_type": "code",
        "colab": {}
      },
      "source": [
        "#Batching\n",
        "\n",
        "batch_size = 100\n",
        "train_data = train_data.batch(batch_size)\n",
        "validation_data = validation_data.batch(num_valid_samples)\n",
        "test_data = test_data.batch(num_test_samples)\n",
        "\n",
        "validation_inputs, validation_targets = next(iter(validation_data))"
      ],
      "execution_count": null,
      "outputs": []
    },
    {
      "cell_type": "markdown",
      "metadata": {
        "id": "mCENGQn8NwZe",
        "colab_type": "text"
      },
      "source": [
        "**Outlining Model**"
      ]
    },
    {
      "cell_type": "code",
      "metadata": {
        "id": "sxIdJmDqIvpq",
        "colab_type": "code",
        "colab": {}
      },
      "source": [
        "input_size = 784\n",
        "output_size = 10\n",
        "hidden_layer_size = 200\n",
        "\n",
        "model = tf.keras.Sequential([ tf.keras.layers.Flatten(input_shape = (28,28,1)),\n",
        "                             tf.keras.layers.Dense(hidden_layer_size, activation='relu'),\n",
        "                             tf.keras.layers.Dense(hidden_layer_size, activation='relu'),\n",
        "                             tf.keras.layers.Dense(hidden_layer_size, activation='relu'),\n",
        "                             tf.keras.layers.Dense(output_size, activation='softmax')])\n",
        "\n",
        "#selecting loss and optimizer\n",
        "\n",
        "model.compile(optimizer = 'adam', loss = 'sparse_categorical_crossentropy', metrics = 'accuracy')"
      ],
      "execution_count": null,
      "outputs": []
    },
    {
      "cell_type": "markdown",
      "metadata": {
        "id": "BJs-vUDfRGYT",
        "colab_type": "text"
      },
      "source": [
        "**Training**"
      ]
    },
    {
      "cell_type": "code",
      "metadata": {
        "id": "1OJPi0e9Q6xW",
        "colab_type": "code",
        "colab": {
          "base_uri": "https://localhost:8080/",
          "height": 219
        },
        "outputId": "251b7451-e5b4-4191-88a8-91fe701a0736"
      },
      "source": [
        "epochs_num = 5\n",
        "model.fit(train_data, epochs = epochs_num, validation_data=(validation_inputs,validation_targets), verbose= 2)"
      ],
      "execution_count": null,
      "outputs": [
        {
          "output_type": "stream",
          "text": [
            "Epoch 1/5\n",
            "540/540 - 9s - loss: 0.2648 - accuracy: 0.9216 - val_loss: 0.1301 - val_accuracy: 0.9592\n",
            "Epoch 2/5\n",
            "540/540 - 9s - loss: 0.1016 - accuracy: 0.9686 - val_loss: 0.0760 - val_accuracy: 0.9757\n",
            "Epoch 3/5\n",
            "540/540 - 9s - loss: 0.0682 - accuracy: 0.9784 - val_loss: 0.0690 - val_accuracy: 0.9785\n",
            "Epoch 4/5\n",
            "540/540 - 9s - loss: 0.0538 - accuracy: 0.9829 - val_loss: 0.0532 - val_accuracy: 0.9833\n",
            "Epoch 5/5\n",
            "540/540 - 9s - loss: 0.0439 - accuracy: 0.9855 - val_loss: 0.0404 - val_accuracy: 0.9863\n"
          ],
          "name": "stdout"
        },
        {
          "output_type": "execute_result",
          "data": {
            "text/plain": [
              "<tensorflow.python.keras.callbacks.History at 0x7f069f54bd30>"
            ]
          },
          "metadata": {
            "tags": []
          },
          "execution_count": 35
        }
      ]
    },
    {
      "cell_type": "markdown",
      "metadata": {
        "id": "jijYTUkcW-zd",
        "colab_type": "text"
      },
      "source": [
        "**Let's Test the accuracy of the model**"
      ]
    },
    {
      "cell_type": "code",
      "metadata": {
        "id": "3q_33kKORuT2",
        "colab_type": "code",
        "colab": {
          "base_uri": "https://localhost:8080/",
          "height": 35
        },
        "outputId": "43290e3e-7d11-45ad-930d-c456a4f982ff"
      },
      "source": [
        "test_loss, test_accuracy = model.evaluate(test_data)"
      ],
      "execution_count": null,
      "outputs": [
        {
          "output_type": "stream",
          "text": [
            "1/1 [==============================] - 0s 7ms/step - loss: 0.0706 - accuracy: 0.9779\n"
          ],
          "name": "stdout"
        }
      ]
    },
    {
      "cell_type": "code",
      "metadata": {
        "id": "QEcx9w67XNCQ",
        "colab_type": "code",
        "colab": {
          "base_uri": "https://localhost:8080/",
          "height": 35
        },
        "outputId": "89a5ab1b-b546-4b50-dc5f-e71819545fde"
      },
      "source": [
        "print('test_loss: {0:.2f}, test_accuracy: {1:.2f}%'.format(test_loss,test_accuracy*100))"
      ],
      "execution_count": null,
      "outputs": [
        {
          "output_type": "stream",
          "text": [
            "test_loss: 0.07, test_accuracy: 97.79%\n"
          ],
          "name": "stdout"
        }
      ]
    },
    {
      "cell_type": "code",
      "metadata": {
        "id": "k_mXZkCOX0JE",
        "colab_type": "code",
        "colab": {}
      },
      "source": [
        ""
      ],
      "execution_count": null,
      "outputs": []
    }
  ]
}